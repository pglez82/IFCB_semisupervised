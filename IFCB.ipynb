{
 "cells": [
  {
   "cell_type": "markdown",
   "metadata": {
    "colab_type": "text",
    "id": "view-in-github"
   },
   "source": [
    "<a href=\"https://colab.research.google.com/github/pglez82/IFCB_semisupervised/blob/master/IFCB.ipynb\" target=\"_parent\"><img src=\"https://colab.research.google.com/assets/colab-badge.svg\" alt=\"Open In Colab\"/></a>"
   ]
  },
  {
   "cell_type": "markdown",
   "metadata": {
    "colab_type": "text",
    "id": "RStEOrZz2isi"
   },
   "source": [
    "# Showing system info"
   ]
  },
  {
   "cell_type": "code",
   "execution_count": 2,
   "metadata": {
    "colab": {
     "base_uri": "https://localhost:8080/",
     "height": 88
    },
    "colab_type": "code",
    "id": "Mdydmkeg2pHa",
    "outputId": "f586782b-58b6-4b4e-c49b-5060260cb783"
   },
   "outputs": [
    {
     "name": "stdout",
     "output_type": "stream",
     "text": [
      "Mon Jun 15 22:41:12 2020       \n",
      "+-----------------------------------------------------------------------------+\n",
      "| NVIDIA-SMI 410.48                 Driver Version: 410.48                    |\n",
      "|-------------------------------+----------------------+----------------------+\n",
      "| GPU  Name        Persistence-M| Bus-Id        Disp.A | Volatile Uncorr. ECC |\n",
      "| Fan  Temp  Perf  Pwr:Usage/Cap|         Memory-Usage | GPU-Util  Compute M. |\n",
      "|===============================+======================+======================|\n",
      "|   0  TITAN Xp            Off  | 00000000:17:00.0 Off |                  N/A |\n",
      "| 23%   29C    P8     9W / 250W |     10MiB / 12196MiB |      0%      Default |\n",
      "+-------------------------------+----------------------+----------------------+\n",
      "|   1  TITAN Xp            Off  | 00000000:65:00.0 Off |                  N/A |\n",
      "| 52%   79C    P2    88W / 250W |   3147MiB / 12194MiB |      0%      Default |\n",
      "+-------------------------------+----------------------+----------------------+\n",
      "                                                                               \n",
      "+-----------------------------------------------------------------------------+\n",
      "| Processes:                                                       GPU Memory |\n",
      "|  GPU       PID   Type   Process name                             Usage      |\n",
      "|=============================================================================|\n",
      "|    1      1106      C   /home/pgonzalez/anaconda3/bin/python        3137MiB |\n",
      "+-----------------------------------------------------------------------------+\n",
      "Your runtime has 67.2 gigabytes of available RAM\n",
      "\n"
     ]
    }
   ],
   "source": [
    "gpu_info = !nvidia-smi\n",
    "gpu_info = '\\n'.join(gpu_info)\n",
    "if gpu_info.find('failed') >= 0:\n",
    "  print('Select the Runtime > \"Change runtime type\" menu to enable a GPU accelerator, ')\n",
    "  print('and then re-execute this cell.')\n",
    "else:\n",
    "  print(gpu_info)\n",
    "\n",
    "from psutil import virtual_memory\n",
    "ram_gb = virtual_memory().total / 1e9\n",
    "print('Your runtime has {:.1f} gigabytes of available RAM\\n'.format(ram_gb))"
   ]
  },
  {
   "cell_type": "markdown",
   "metadata": {
    "colab_type": "text",
    "id": "0aj37uariCNh"
   },
   "source": [
    "# Download SimCLR code\n",
    "In this step we download the SimCLR code for **PyTorch** and install its dependencies\n",
    "\n"
   ]
  },
  {
   "cell_type": "code",
   "execution_count": 3,
   "metadata": {
    "colab": {
     "base_uri": "https://localhost:8080/",
     "height": 877
    },
    "colab_type": "code",
    "id": "RU38uvtmh_HO",
    "outputId": "816d3c4a-588d-44fa-e1a5-ec3dcfa383e1"
   },
   "outputs": [
    {
     "name": "stdout",
     "output_type": "stream",
     "text": [
      "/media/HDD/pgonzalez/IFCB_semisupervised/SimCLR\n",
      "Warning: you have pip-installed dependencies in your environment file, but you do not list pip itself as one of your conda dependencies.  Conda may not use the correct pip to install your packages, and they may end up in the wrong place.  Please add an explicit pip dependency.  I'm adding one for you, but still nagging you.\n",
      "\n",
      "CondaValueError: prefix already exists: /home/pgonzalez/anaconda3/envs/simclr\n",
      "\n",
      "Warning: you have pip-installed dependencies in your environment file, but you do not list pip itself as one of your conda dependencies.  Conda may not use the correct pip to install your packages, and they may end up in the wrong place.  Please add an explicit pip dependency.  I'm adding one for you, but still nagging you.\n",
      "Collecting package metadata (repodata.json): done\n",
      "Solving environment: done\n",
      "\n",
      "\n",
      "==> WARNING: A newer version of conda exists. <==\n",
      "  current version: 4.8.2\n",
      "  latest version: 4.8.3\n",
      "\n",
      "Please update conda by running\n",
      "\n",
      "    $ conda update -n base -c defaults conda\n",
      "\n",
      "\n",
      "Ran pip subprocess with arguments:\n",
      "['/home/pgonzalez/anaconda3/envs/simclr/bin/python', '-m', 'pip', 'install', '-U', '-r', '/media/HDD/pgonzalez/IFCB_semisupervised/SimCLR/condaenv.zcxll0o0.requirements.txt']\n",
      "Pip subprocess output:\n",
      "Requirement already up-to-date: sacred in /home/pgonzalez/anaconda3/envs/simclr/lib/python3.8/site-packages (from -r /media/HDD/pgonzalez/IFCB_semisupervised/SimCLR/condaenv.zcxll0o0.requirements.txt (line 1)) (0.8.1)\n",
      "Requirement already satisfied, skipping upgrade: colorama>=0.4 in /home/pgonzalez/anaconda3/envs/simclr/lib/python3.8/site-packages (from sacred->-r /media/HDD/pgonzalez/IFCB_semisupervised/SimCLR/condaenv.zcxll0o0.requirements.txt (line 1)) (0.4.3)\n",
      "Requirement already satisfied, skipping upgrade: wrapt<2.0,>=1.0 in /home/pgonzalez/anaconda3/envs/simclr/lib/python3.8/site-packages (from sacred->-r /media/HDD/pgonzalez/IFCB_semisupervised/SimCLR/condaenv.zcxll0o0.requirements.txt (line 1)) (1.12.1)\n",
      "Requirement already satisfied, skipping upgrade: packaging>=18.0 in /home/pgonzalez/anaconda3/envs/simclr/lib/python3.8/site-packages (from sacred->-r /media/HDD/pgonzalez/IFCB_semisupervised/SimCLR/condaenv.zcxll0o0.requirements.txt (line 1)) (20.4)\n",
      "Requirement already satisfied, skipping upgrade: docopt<1.0,>=0.3 in /home/pgonzalez/anaconda3/envs/simclr/lib/python3.8/site-packages (from sacred->-r /media/HDD/pgonzalez/IFCB_semisupervised/SimCLR/condaenv.zcxll0o0.requirements.txt (line 1)) (0.6.2)\n",
      "Requirement already satisfied, skipping upgrade: munch<3.0,>=2.0.2 in /home/pgonzalez/anaconda3/envs/simclr/lib/python3.8/site-packages (from sacred->-r /media/HDD/pgonzalez/IFCB_semisupervised/SimCLR/condaenv.zcxll0o0.requirements.txt (line 1)) (2.5.0)\n",
      "Requirement already satisfied, skipping upgrade: jsonpickle<2.0,>=1.2 in /home/pgonzalez/anaconda3/envs/simclr/lib/python3.8/site-packages (from sacred->-r /media/HDD/pgonzalez/IFCB_semisupervised/SimCLR/condaenv.zcxll0o0.requirements.txt (line 1)) (1.4.1)\n",
      "Requirement already satisfied, skipping upgrade: py-cpuinfo>=4.0 in /home/pgonzalez/anaconda3/envs/simclr/lib/python3.8/site-packages (from sacred->-r /media/HDD/pgonzalez/IFCB_semisupervised/SimCLR/condaenv.zcxll0o0.requirements.txt (line 1)) (6.0.0)\n",
      "Requirement already satisfied, skipping upgrade: GitPython in /home/pgonzalez/anaconda3/envs/simclr/lib/python3.8/site-packages (from sacred->-r /media/HDD/pgonzalez/IFCB_semisupervised/SimCLR/condaenv.zcxll0o0.requirements.txt (line 1)) (3.1.3)\n",
      "Requirement already satisfied, skipping upgrade: pyparsing>=2.0.2 in /home/pgonzalez/anaconda3/envs/simclr/lib/python3.8/site-packages (from packaging>=18.0->sacred->-r /media/HDD/pgonzalez/IFCB_semisupervised/SimCLR/condaenv.zcxll0o0.requirements.txt (line 1)) (2.4.7)\n",
      "Requirement already satisfied, skipping upgrade: six in /home/pgonzalez/anaconda3/envs/simclr/lib/python3.8/site-packages (from packaging>=18.0->sacred->-r /media/HDD/pgonzalez/IFCB_semisupervised/SimCLR/condaenv.zcxll0o0.requirements.txt (line 1)) (1.15.0)\n",
      "Requirement already satisfied, skipping upgrade: importlib-metadata in /home/pgonzalez/anaconda3/envs/simclr/lib/python3.8/site-packages (from jsonpickle<2.0,>=1.2->sacred->-r /media/HDD/pgonzalez/IFCB_semisupervised/SimCLR/condaenv.zcxll0o0.requirements.txt (line 1)) (1.6.1)\n",
      "Requirement already satisfied, skipping upgrade: gitdb<5,>=4.0.1 in /home/pgonzalez/anaconda3/envs/simclr/lib/python3.8/site-packages (from GitPython->sacred->-r /media/HDD/pgonzalez/IFCB_semisupervised/SimCLR/condaenv.zcxll0o0.requirements.txt (line 1)) (4.0.5)\n",
      "Requirement already satisfied, skipping upgrade: zipp>=0.5 in /home/pgonzalez/anaconda3/envs/simclr/lib/python3.8/site-packages (from importlib-metadata->jsonpickle<2.0,>=1.2->sacred->-r /media/HDD/pgonzalez/IFCB_semisupervised/SimCLR/condaenv.zcxll0o0.requirements.txt (line 1)) (3.1.0)\n",
      "Requirement already satisfied, skipping upgrade: smmap<4,>=3.0.1 in /home/pgonzalez/anaconda3/envs/simclr/lib/python3.8/site-packages (from gitdb<5,>=4.0.1->GitPython->sacred->-r /media/HDD/pgonzalez/IFCB_semisupervised/SimCLR/condaenv.zcxll0o0.requirements.txt (line 1)) (3.0.4)\n",
      "\n",
      "#\n",
      "# To activate this environment, use\n",
      "#\n",
      "#     $ conda activate simclr\n",
      "#\n",
      "# To deactivate an active environment, use\n",
      "#\n",
      "#     $ conda deactivate\n",
      "\n",
      "Processing /home/pgonzalez/.cache/pip/wheels/5e/03/1e/e1e954795d6f35dfc7b637fe2277bff021303bd9570ecea653/PyYAML-5.3.1-cp37-cp37m-linux_x86_64.whl\n",
      "Installing collected packages: pyyaml\n",
      "  Attempting uninstall: pyyaml\n",
      "    Found existing installation: PyYAML 5.3\n",
      "\u001b[31mERROR: Cannot uninstall 'PyYAML'. It is a distutils installed project and thus we cannot accurately determine which files belong to it which would lead to only a partial uninstall.\u001b[0m\n"
     ]
    }
   ],
   "source": [
    "import os\n",
    "\n",
    "if not os.path.isdir(\"SimCLR\"):\n",
    "  !git clone https://github.com/pglez82/SimCLR.git\n",
    " \n",
    "%cd SimCLR\n",
    "!sh setup.sh || python3 -m pip install -r requirements.txt || exit 1\n",
    "!pip install  pyyaml --upgrade"
   ]
  },
  {
   "cell_type": "markdown",
   "metadata": {
    "colab_type": "text",
    "id": "ofyw_2IYzlMu"
   },
   "source": [
    "# Download the images\n",
    "In this section, we **donwload** the data and **uncompress** it. The code has checks in order to ensure that already downloaded data is not redownloaded"
   ]
  },
  {
   "cell_type": "code",
   "execution_count": 4,
   "metadata": {
    "colab": {
     "base_uri": "https://localhost:8080/",
     "height": 35
    },
    "colab_type": "code",
    "id": "zA0THo_kbFMw",
    "outputId": "d1361d8d-fc71-456f-f7bc-f0c34bbb2088"
   },
   "outputs": [
    {
     "name": "stdout",
     "output_type": "stream",
     "text": [
      "/media/HDD/pgonzalez/IFCB_semisupervised\n",
      "Data already exists. Skipping download.\n"
     ]
    }
   ],
   "source": [
    "%cd ..\n",
    "if not os.path.isfile(\"IFCB_data.tar\") and not os.path.isdir(\"data\"):\n",
    "  print(\"Data do not exist in local. Downloading...\")\n",
    "  !wget -O IFCB_data.tar https://unioviedo-my.sharepoint.com/:u:/g/personal/gonzalezgpablo_uniovi_es/Ec2z0uC4lghEg-9MjzoJ9QkBK5n74QjS-LszB9dlNrPfaw?download=1\n",
    "else:\n",
    "  print(\"Data already exists. Skipping download.\")\n",
    "\n",
    "if not os.path.isdir(\"data\"):\n",
    "  print(\"Extracting the tar file...\")\n",
    "  !tar -xf \"IFCB_data.tar\"\n",
    "  print(\"Done. Removing the tar file.\")\n",
    "  !rm -f IFCB_data.tar #Remove the original file to save space"
   ]
  },
  {
   "cell_type": "markdown",
   "metadata": {
    "colab_type": "text",
    "id": "hUG0AmQ6z8us"
   },
   "source": [
    "# Download CSV with information about the images\n"
   ]
  },
  {
   "cell_type": "code",
   "execution_count": 5,
   "metadata": {
    "colab": {
     "base_uri": "https://localhost:8080/",
     "height": 267
    },
    "colab_type": "code",
    "id": "YoVqmVot04VX",
    "outputId": "d7d8544a-5d77-4d64-dcf1-a368e1bbadca"
   },
   "outputs": [
    {
     "name": "stdout",
     "output_type": "stream",
     "text": [
      "                        Sample  roi_number        OriginalClass  \\\n",
      "0        IFCB1_2006_158_000036           1                  mix   \n",
      "1        IFCB1_2006_158_000036           2  Tontonia_gracillima   \n",
      "2        IFCB1_2006_158_000036           3                  mix   \n",
      "3        IFCB1_2006_158_000036           4                  mix   \n",
      "4        IFCB1_2006_158_000036           5                  mix   \n",
      "...                        ...         ...                  ...   \n",
      "3457814  IFCB5_2014_353_205141        6850       Leptocylindrus   \n",
      "3457815  IFCB5_2014_353_205141        6852                  mix   \n",
      "3457816  IFCB5_2014_353_205141        6855                  mix   \n",
      "3457817  IFCB5_2014_353_205141        6856                  mix   \n",
      "3457818  IFCB5_2014_353_205141        6857                  mix   \n",
      "\n",
      "              AutoClass FunctionalGroup  \n",
      "0                   mix      Flagellate  \n",
      "1           ciliate_mix         Ciliate  \n",
      "2                   mix      Flagellate  \n",
      "3                   mix      Flagellate  \n",
      "4                   mix      Flagellate  \n",
      "...                 ...             ...  \n",
      "3457814  Leptocylindrus          Diatom  \n",
      "3457815             mix      Flagellate  \n",
      "3457816             mix      Flagellate  \n",
      "3457817             mix      Flagellate  \n",
      "3457818             mix      Flagellate  \n",
      "\n",
      "[3457819 rows x 5 columns]\n"
     ]
    }
   ],
   "source": [
    "import pandas as pd\n",
    "\n",
    "if not os.path.isfile('IFCB.csv.zip'):\n",
    "  print(\"CSV data do not exist. Downloading...\")\n",
    "  !wget -O IFCB.csv.zip \"https://unioviedo-my.sharepoint.com/:u:/g/personal/gonzalezgpablo_uniovi_es/EfsVLhFsYJpPjO0KZlpWUq0BU6LaqJ989Re4XzatS9aG4Q?download=1\"\n",
    "\n",
    "data = pd.read_csv('IFCB.csv.zip',compression='infer', header=0,sep=',',quotechar='\"')\n",
    "print(data)"
   ]
  },
  {
   "cell_type": "markdown",
   "metadata": {
    "colab_type": "text",
    "id": "oB1gMsg5EIZV"
   },
   "source": [
    "# Create training set\n",
    "\n",
    "Here we make a reestructuration of the images depending on which class we consider"
   ]
  },
  {
   "cell_type": "code",
   "execution_count": 6,
   "metadata": {
    "colab": {
     "base_uri": "https://localhost:8080/",
     "height": 106
    },
    "colab_type": "code",
    "id": "fX4-tijiEVcO",
    "outputId": "eebbc197-ec2d-4b57-ae36-798ed164b172"
   },
   "outputs": [
    {
     "name": "stdout",
     "output_type": "stream",
     "text": [
      "Considering 51 classes\n",
      "Computing image paths...\n"
     ]
    },
    {
     "name": "stderr",
     "output_type": "stream",
     "text": [
      "/home/pgonzalez/anaconda3/lib/python3.7/site-packages/tqdm/std.py:658: FutureWarning: The Panel class is removed from pandas. Accessing it from the top-level namespace will also be removed in the next version\n",
      "  from pandas import Panel\n"
     ]
    },
    {
     "name": "stdout",
     "output_type": "stream",
     "text": [
      "Done\n",
      "Training data already there... Doing nothing\n",
      "Validation data already there... Doing nothing\n"
     ]
    }
   ],
   "source": [
    "import progressbar\n",
    "from tqdm import tqdm\n",
    "\n",
    "tqdm.pandas()\n",
    "\n",
    "classcolumn = \"AutoClass\" #Autoclass means 51 classes\n",
    "yearstraining = ['2006'] #Years to consider as training\n",
    "yearsvalidation = ['2007']\n",
    "trainingfolder = \"training\"\n",
    "validationfolder = \"validation\"\n",
    "\n",
    "classes = pd.unique(data[classcolumn])\n",
    "print(\"Considering %i classes\" % len(classes))\n",
    "\n",
    "print(\"Computing image paths...\")\n",
    "#Compute data paths\n",
    "data['year'] = data['Sample'].str[6:10].astype(str)\n",
    "data['path']=\"data\"+'/'+data['year']+'/'+data['OriginalClass'].astype(str)+'/'+data['Sample'].astype(str)+'_'+data['roi_number'].apply(lambda x: str(x).zfill(5))+'.png'\n",
    "print('Done')\n",
    "\n",
    "if not os.path.isdir(trainingfolder):\n",
    "  print(\"Create folder structure for training set...\")\n",
    "  os.mkdir(trainingfolder)\n",
    "  for folder in classes:\n",
    "    os.mkdir(os.path.join(trainingfolder,folder))\n",
    "  print(\"Done.\\nMoving images to the respective folders...\")\n",
    "  data[data['year'].isin(yearstraining)].progress_apply(lambda row: os.rename(row['path'],os.path.join(trainingfolder,row[classcolumn],os.path.basename(row['path']))),axis=1)\n",
    "  print(\"Done\")\n",
    "else:\n",
    "  print(\"Training data already there... Doing nothing\")\n",
    "\n",
    "if not os.path.isdir(validationfolder):\n",
    "  print(\"Create folder structure for the validation set...\")\n",
    "  os.mkdir(validationfolder)\n",
    "  for folder in classes:\n",
    "    os.mkdir(os.path.join(validationfolder,folder))\n",
    "  print(\"Done.\\nMoving images to the respective folders...\")\n",
    "  data[data['year'].isin(yearsvalidation)].progress_apply(lambda row: os.rename(row['path'],os.path.join(validationfolder,row[classcolumn],os.path.basename(row['path']))),axis=1)\n",
    "  print(\"Done\")  \n",
    "else:\n",
    "  print(\"Validation data already there... Doing nothing\")\n"
   ]
  },
  {
   "cell_type": "markdown",
   "metadata": {
    "colab_type": "text",
    "id": "Oh9aOkEfWUEq"
   },
   "source": [
    "# Lets configure SimCLR\n",
    "Number of epocs, optimizer, resnet version to use ...\n",
    "Things that we have to configure:\n",
    "\n",
    "\n",
    "*   cuda:0 -> Change to cuda:1 to use second gpu\n",
    "*   args.batch_size -> higher value its slower but better\n",
    "*   args.resnet -> resnet18 | resnet50\n",
    "\n"
   ]
  },
  {
   "cell_type": "code",
   "execution_count": 7,
   "metadata": {
    "colab": {
     "base_uri": "https://localhost:8080/",
     "height": 35
    },
    "colab_type": "code",
    "id": "dKfV68rAjVeE",
    "outputId": "0bdf18cf-9893-4d06-9b42-d60982355279"
   },
   "outputs": [
    {
     "name": "stdout",
     "output_type": "stream",
     "text": [
      "Using cuda:0\n"
     ]
    }
   ],
   "source": [
    "import torch\n",
    "from SimCLR.utils.yaml_config_hook import yaml_config_hook\n",
    "import argparse\n",
    "\n",
    "config = yaml_config_hook(\"./SimCLR/config/config.yaml\")\n",
    "args = argparse.Namespace(**config)\n",
    "\n",
    "#Here we need to select which graphics card we want to use in case of having more than one\n",
    "args.device = torch.device(\"cuda:0\" if torch.cuda.is_available() else \"cpu\")\n",
    "print(\"Using %s\" % args.device)"
   ]
  },
  {
   "cell_type": "code",
   "execution_count": 27,
   "metadata": {
    "colab": {
     "base_uri": "https://localhost:8080/",
     "height": 428
    },
    "colab_type": "code",
    "id": "dwtMapDQjyfY",
    "outputId": "8723201a-50c0-4d2b-c7be-446827d6cff0"
   },
   "outputs": [
    {
     "name": "stdout",
     "output_type": "stream",
     "text": [
      "{'batch_size': 256,\n",
      " 'current_epoch': 101,\n",
      " 'dataset': 'IFCB',\n",
      " 'device': device(type='cuda', index=0),\n",
      " 'epoch_num': 100,\n",
      " 'epochs': 100,\n",
      " 'fp16': False,\n",
      " 'fp16_opt_level': 'O2',\n",
      " 'global_step': 0,\n",
      " 'image_size': 128,\n",
      " 'logistic_batch_size': 256,\n",
      " 'logistic_epochs': 500,\n",
      " 'model_path': 'drive/My Drive/Colab Notebooks/IFCB_resnet18_b256_s128',\n",
      " 'normalize': True,\n",
      " 'optimizer': 'Adam',\n",
      " 'out_dir': 'drive/My Drive/Colab Notebooks/IFCB_resnet18_b256_s128',\n",
      " 'pretrain': True,\n",
      " 'projection_dim': 64,\n",
      " 'proportions': [0.001, 0.005, 0.01, 0.1],\n",
      " 'resnet': 'resnet18',\n",
      " 'seed': 42,\n",
      " 'start_epoch': 101,\n",
      " 'temperature': 0.5,\n",
      " 'weight_decay': 1e-06,\n",
      " 'workers': 16}\n"
     ]
    }
   ],
   "source": [
    "from pprint import pprint\n",
    "args.dataset = \"IFCB\" #This value will be used only for the output dir\n",
    "args.image_size = 128 #@param\n",
    "args.batch_size =  256 #@param\n",
    "args.resnet = \"resnet18\" #@param ['resnet18','resnet50']\n",
    "#Means that we want to start training in this epoch. We should have a file checkpoint_{}.tar in the args.model_path dir\n",
    "args.epoch_num =  100 #@param \n",
    "#How many epochs we want. If epochs = epoch num we just load the model and do nothing\n",
    "args.epochs = 100 #@param  \n",
    "#We want to save the checkpoints to google drive\n",
    "args.out_dir = \"drive/My Drive/Colab Notebooks/{}_{}_b{}_s{}\".format(args.dataset,args.resnet,args.batch_size,args.image_size)\n",
    "args.model_path = args.out_dir #This is the directory from where we want to restore checkpoints\n",
    "args.proportions = [0.001,0.005,0.01,0.1] #how many labeled data we are going to use for training\n",
    "args.logistic_epochs = 500\n",
    "\n",
    "if not os.path.isdir(args.out_dir):\n",
    "  raise SystemExit(\"The output folder {} does not exist!\".format(args.out_dir))\n",
    "pprint(vars(args))"
   ]
  },
  {
   "cell_type": "markdown",
   "metadata": {
    "colab_type": "text",
    "id": "iPW_XQETJi6H"
   },
   "source": [
    "# Loading the training dataset\n",
    "\n",
    "Use pytorch to load the training dataset"
   ]
  },
  {
   "cell_type": "code",
   "execution_count": 9,
   "metadata": {
    "colab": {},
    "colab_type": "code",
    "id": "zvbF4INZJpGL"
   },
   "outputs": [],
   "source": [
    "import torchvision\n",
    "from torchvision import transforms\n",
    "from SimCLR.modules.transformations import TransformsSimCLR\n",
    "\n",
    "#This transform makes the magic and returns two augmented images from an original image\n",
    "train_dataset = torchvision.datasets.ImageFolder(root=trainingfolder, transform=TransformsSimCLR(size=args.image_size))\n",
    "\n",
    "train_loader = torch.utils.data.DataLoader(\n",
    "  train_dataset,\n",
    "  batch_size=args.batch_size,\n",
    "  shuffle=False,\n",
    "  drop_last=True,\n",
    "  num_workers=args.workers,\n",
    ")"
   ]
  },
  {
   "cell_type": "markdown",
   "metadata": {},
   "source": [
    "# Show some example pictures"
   ]
  },
  {
   "cell_type": "code",
   "execution_count": 10,
   "metadata": {},
   "outputs": [
    {
     "data": {
      "image/png": "[encoded data removed]",
      "text/plain": [
       "<Figure size 1152x288 with 16 Axes>"
      ]
     },
     "metadata": {
      "needs_background": "light"
     },
     "output_type": "display_data"
    }
   ],
   "source": [
    "import matplotlib.pyplot as plt\n",
    "import torchvision.transforms as T\n",
    "import random\n",
    "\n",
    "train_dataset_display = torchvision.datasets.ImageFolder(root=trainingfolder,\n",
    "                                                         transform=T.Compose([T.Resize(size=args.image_size),\n",
    "                                                                              T.CenterCrop(size=args.image_size)]))\n",
    "random.seed(35)\n",
    "fig, axs = plt.subplots(nrows=4, ncols=8, constrained_layout=False, figsize=(16,8))\n",
    "fig.tight_layout()\n",
    "for _, ax in enumerate(axs.flat):\n",
    "  index = random.randint(0, len(train_dataset_display)-1)\n",
    "  ax.imshow(train_dataset_display[index][0])\n",
    "  ax.title.set_text(train_dataset_display.classes[train_dataset_display[index][1]])\n",
    "plt.show()"
   ]
  },
  {
   "cell_type": "markdown",
   "metadata": {
    "colab_type": "text",
    "id": "jGzNgl0rvVvO"
   },
   "source": [
    "# Define the training function\n",
    "This is the function that will do all the work for one epoch"
   ]
  },
  {
   "cell_type": "code",
   "execution_count": 11,
   "metadata": {
    "colab": {},
    "colab_type": "code",
    "id": "xd2u3DeVjL1p"
   },
   "outputs": [],
   "source": [
    "import time\n",
    "\n",
    "def train(args, train_loader, model, criterion, optimizer, writer):\n",
    "  loss_epoch = 0\n",
    "  start_time = time.time()\n",
    "  for step, ((x_i, x_j), _) in enumerate(train_loader):\n",
    "    optimizer.zero_grad()\n",
    "    x_i = x_i.to(args.device)\n",
    "    x_j = x_j.to(args.device)\n",
    "\n",
    "    # positive pair, with encoding\n",
    "    h_i, z_i = model(x_i)\n",
    "    h_j, z_j = model(x_j)\n",
    "\n",
    "    loss = criterion(z_i, z_j)\n",
    "\n",
    "    loss.backward()\n",
    "\n",
    "    optimizer.step()\n",
    "\n",
    "    if step % 50 == 0:\n",
    "      spent = time.time()-start_time\n",
    "      print(f\"Step [{step}/{len(train_loader)}]\\t Loss: {loss.item()} \\t Time: {spent} secs [{(args.batch_size*50)/spent} ej/sec]]\")\n",
    "      start_time = time.time()\n",
    "\n",
    "    writer.add_scalar(\"Loss/Step\", loss.item(), args.global_step)\n",
    "    loss_epoch += loss.item()\n",
    "    args.global_step += 1\n",
    "\n",
    "  return loss_epoch"
   ]
  },
  {
   "cell_type": "markdown",
   "metadata": {
    "colab_type": "text",
    "id": "fPt7HTMDWHGj"
   },
   "source": [
    "# Load the model\n",
    "We only reload the model if **args.epoch_num** is different from zero. This case means that we want to continue training from a checkpoint (we should have the model in the **args.model_path** dir."
   ]
  },
  {
   "cell_type": "code",
   "execution_count": 12,
   "metadata": {
    "colab": {},
    "colab_type": "code",
    "id": "asEk24AyUUyY"
   },
   "outputs": [],
   "source": [
    "from SimCLR.model import load_model\n",
    "model, optimizer, scheduler = load_model(args, train_loader,reload_model=(args.epoch_num!=0))"
   ]
  },
  {
   "cell_type": "markdown",
   "metadata": {
    "colab_type": "text",
    "id": "IgnQQ_UTWuNn"
   },
   "source": [
    "# Configure TensorBoard\n",
    "\n"
   ]
  },
  {
   "cell_type": "code",
   "execution_count": 13,
   "metadata": {
    "colab": {},
    "colab_type": "code",
    "id": "s2sVEpLMWzCK"
   },
   "outputs": [],
   "source": [
    "from torch.utils.tensorboard import SummaryWriter\n",
    "\n",
    "tb_dir = os.path.join(args.out_dir, \"colab\")\n",
    "if not os.path.exists(tb_dir):\n",
    "  os.makedirs(tb_dir)\n",
    "writer = SummaryWriter(log_dir=tb_dir)"
   ]
  },
  {
   "cell_type": "markdown",
   "metadata": {
    "colab_type": "text",
    "id": "esq_Jrkh_zjB"
   },
   "source": [
    "# Load the loss function\n",
    "This function tries to minimize the difference between the two augmented variations of the image and maximize the difference between these and the rest of the batch"
   ]
  },
  {
   "cell_type": "code",
   "execution_count": 14,
   "metadata": {
    "colab": {},
    "colab_type": "code",
    "id": "7XqPNffhXVCH"
   },
   "outputs": [],
   "source": [
    "from SimCLR.modules import NT_Xent\n",
    "\n",
    "criterion = NT_Xent(args.batch_size, args.temperature, args.device)"
   ]
  },
  {
   "cell_type": "markdown",
   "metadata": {
    "colab_type": "text",
    "id": "a2RE3UTiAD49"
   },
   "source": [
    "# Training the CNN\n",
    "We make a checkpoint each 5 epochs just in case"
   ]
  },
  {
   "cell_type": "code",
   "execution_count": 15,
   "metadata": {
    "colab": {},
    "colab_type": "code",
    "id": "8ibd6L_Gbwnq"
   },
   "outputs": [],
   "source": [
    "from SimCLR.model import save_model\n",
    "\n",
    "args.global_step = 0\n",
    "if args.epoch_num!=0: #If we have loaded a model trained til an epoch, lets start training in the next\n",
    "  args.start_epoch=args.epoch_num+1\n",
    "args.current_epoch = args.start_epoch #Variable for controlling in which epoch we are\n",
    "\n",
    "for epoch in range(args.start_epoch, args.epochs):\n",
    "  lr = optimizer.param_groups[0]['lr']\n",
    "  loss_epoch = train(args, train_loader, model, criterion, optimizer, writer)\n",
    "\n",
    "  if scheduler:\n",
    "    scheduler.step()\n",
    "\n",
    "  if epoch % 5 == 0:\n",
    "    save_model(args, model, optimizer)\n",
    "\n",
    "  writer.add_scalar(\"Loss/train epoch\", loss_epoch / len(train_loader), epoch)\n",
    "  writer.add_scalar(\"Misc/learning_rate\", lr, epoch)\n",
    "  print(f\"Epoch [{epoch+1}/{args.epochs}]\\t Loss: {loss_epoch / len(train_loader)}\\t lr: {round(lr, 5)}\")\n",
    "  args.current_epoch += 1\n",
    "\n",
    "## end training\n",
    "if args.start_epoch!=args.epochs:\n",
    "  save_model(args, model, optimizer)"
   ]
  },
  {
   "cell_type": "code",
   "execution_count": 16,
   "metadata": {
    "colab": {},
    "colab_type": "code",
    "id": "JI_kq0N1KHLa"
   },
   "outputs": [],
   "source": [
    "#!tensorboard dev upload --logdir \"$tb_dir\" --name \"IFCBv3\" --description \"Training with 2006 image size 128 batch size 256\""
   ]
  },
  {
   "cell_type": "markdown",
   "metadata": {
    "colab_type": "text",
    "id": "OkJF3l3NqeFz"
   },
   "source": [
    "# **Trainining the classifier using the deep features**\n",
    "Now we will be trying to find out if the network has learnt something useful from the unlabeled data. We will train a Logistic Regression classifier with the labeled examples and testing against a validation dataset"
   ]
  },
  {
   "cell_type": "markdown",
   "metadata": {
    "colab_type": "text",
    "id": "h8su48ibuaBp"
   },
   "source": [
    "# Define train and test functions"
   ]
  },
  {
   "cell_type": "code",
   "execution_count": 17,
   "metadata": {
    "colab": {},
    "colab_type": "code",
    "id": "UvUK4Z50t0E1"
   },
   "outputs": [],
   "source": [
    "def train(args, loader, model, criterion, optimizer):\n",
    "  loss_epoch = 0\n",
    "  accuracy_epoch = 0\n",
    "  for step, (x, y) in enumerate(loader):\n",
    "    optimizer.zero_grad()\n",
    "\n",
    "    x = x.to(args.device)\n",
    "    y = y.to(args.device)\n",
    "\n",
    "    output = model(x)\n",
    "    loss = criterion(output, y)\n",
    "\n",
    "    predicted = output.argmax(1)\n",
    "    acc = (predicted == y).sum().item() / y.size(0)\n",
    "    accuracy_epoch += acc\n",
    "\n",
    "    loss.backward()\n",
    "    optimizer.step()\n",
    "\n",
    "    loss_epoch += loss.item()\n",
    "\n",
    "  return loss_epoch, accuracy_epoch"
   ]
  },
  {
   "cell_type": "code",
   "execution_count": 25,
   "metadata": {
    "colab": {},
    "colab_type": "code",
    "id": "fS3gToslt7A4"
   },
   "outputs": [],
   "source": [
    "def test(args, loader, model, criterion, optimizer):\n",
    "  loss_epoch = 0\n",
    "  accuracy_epoch = 0\n",
    "  y_true = []\n",
    "  y_pred = []\n",
    "  model.eval()\n",
    "  for step, (x, y) in enumerate(loader):\n",
    "    model.zero_grad()\n",
    "\n",
    "    x = x.to(args.device)\n",
    "    y = y.to(args.device)\n",
    "    \n",
    "    output = model(x)\n",
    "    loss = criterion(output, y)\n",
    "\n",
    "    predicted = output.argmax(1)\n",
    "    \n",
    "    #Store predictions so we can build a confusion matrix later\n",
    "    y_true.extend(y.cpu().numpy())\n",
    "    y_pred.extend(predicted.cpu().numpy())\n",
    "    \n",
    "    acc = (predicted == y).sum().item() / y.size(0)\n",
    "    accuracy_epoch += acc\n",
    "\n",
    "    loss_epoch += loss.item()\n",
    "\n",
    "  return loss_epoch, accuracy_epoch,y_true,y_pred"
   ]
  },
  {
   "cell_type": "markdown",
   "metadata": {
    "colab_type": "text",
    "id": "T-4wy4s8uewo"
   },
   "source": [
    "# Load data\n",
    "We have to load the data again because before the data loader was doing the special agumentation for the contrastive learning. Now we only want to resize the images.\n",
    "\n",
    "\n"
   ]
  },
  {
   "cell_type": "code",
   "execution_count": 19,
   "metadata": {
    "colab": {},
    "colab_type": "code",
    "id": "DZQ03a_BuqbR"
   },
   "outputs": [],
   "source": [
    "train_dataset = torchvision.datasets.ImageFolder(root=trainingfolder, transform=TransformsSimCLR(size=args.image_size).test_transform,)\n",
    "test_dataset = torchvision.datasets.ImageFolder(root=validationfolder, transform=TransformsSimCLR(size=args.image_size).test_transform,)\n",
    "\n",
    "train_loader = torch.utils.data.DataLoader(\n",
    "  train_dataset,\n",
    "  batch_size=args.logistic_batch_size,\n",
    "  shuffle=False,\n",
    "  drop_last=True,\n",
    "  num_workers=args.workers,\n",
    ")\n",
    "\n",
    "test_loader = torch.utils.data.DataLoader(\n",
    "  test_dataset,\n",
    "  batch_size=args.logistic_batch_size,\n",
    "  shuffle=False,\n",
    "  drop_last=True,\n",
    "  num_workers=args.workers,\n",
    ")"
   ]
  },
  {
   "cell_type": "code",
   "execution_count": 20,
   "metadata": {},
   "outputs": [
    {
     "name": "stdout",
     "output_type": "stream",
     "text": [
      "Printing distribution of training set...\n",
      "col_0                count\n",
      "0                         \n",
      "Asterionellopsis        33\n",
      "Cerataulina            416\n",
      "Ceratium                34\n",
      "Chaetoceros           2187\n",
      "Corethron               72\n",
      "Coscinodiscus            9\n",
      "Cylindrotheca          297\n",
      "DactFragCerataul       646\n",
      "Dactyliosolen          135\n",
      "Dictyocha              115\n",
      "Dinobryon               90\n",
      "Dinophysis              23\n",
      "Ditylum                  4\n",
      "Ephemera                39\n",
      "Eucampia                52\n",
      "Euglena                 98\n",
      "Gonyaulax                1\n",
      "Guinardia              634\n",
      "Guinardia_flaccida       5\n",
      "Guinardia_striata       43\n",
      "Gyrodinium              26\n",
      "Laboea                   6\n",
      "Lauderia                 1\n",
      "Leptocylindrus        9818\n",
      "Licmophora               6\n",
      "Myrionecta             222\n",
      "Odontella                1\n",
      "Paralia                 25\n",
      "Phaeocystis              1\n",
      "Pleurosigma             41\n",
      "Prorocentrum            52\n",
      "Pseudonitzschia        180\n",
      "Pyramimonas             44\n",
      "Rhizosolenia           203\n",
      "Skeletonema            830\n",
      "Stephanopyxis            2\n",
      "Thalassionema          510\n",
      "Thalassiosira          813\n",
      "Thalassiosira_dirty    446\n",
      "bad                    726\n",
      "ciliate_mix            443\n",
      "clusterflagellate       86\n",
      "detritus             18280\n",
      "dino30                1985\n",
      "kiteflagellates         61\n",
      "mix                  88382\n",
      "mix_elongated         1759\n",
      "na                     765\n",
      "pennate                169\n",
      "Printing distribution of testing set...\n",
      "col_0                 count\n",
      "0                          \n",
      "Asterionellopsis         47\n",
      "Cerataulina            1606\n",
      "Ceratium                  8\n",
      "Chaetoceros            3493\n",
      "Corethron               486\n",
      "Coscinodiscus            25\n",
      "Cylindrotheca           670\n",
      "DactFragCerataul       1511\n",
      "Dactyliosolen           475\n",
      "Dictyocha               130\n",
      "Dinobryon               438\n",
      "Dinophysis               24\n",
      "Ditylum                 137\n",
      "Ephemera                 45\n",
      "Eucampia                 51\n",
      "Euglena                  75\n",
      "Guinardia              4577\n",
      "Guinardia_flaccida      162\n",
      "Guinardia_striata        73\n",
      "Gyrodinium              168\n",
      "Laboea                   33\n",
      "Lauderia                  9\n",
      "Leptocylindrus        15830\n",
      "Licmophora               22\n",
      "Myrionecta              278\n",
      "Odontella                 4\n",
      "Paralia                  59\n",
      "Phaeocystis               9\n",
      "Pleurosigma             138\n",
      "Prorocentrum             45\n",
      "Pseudonitzschia         240\n",
      "Pyramimonas              45\n",
      "Rhizosolenia           3465\n",
      "Skeletonema             736\n",
      "Thalassionema           231\n",
      "Thalassiosira          1675\n",
      "Thalassiosira_dirty     193\n",
      "bad                    1492\n",
      "ciliate_mix            1074\n",
      "clusterflagellate        36\n",
      "detritus              25775\n",
      "dino30                 2752\n",
      "kiteflagellates           2\n",
      "mix                  199100\n",
      "mix_elongated          4710\n",
      "na                      406\n",
      "pennate                 336\n"
     ]
    }
   ],
   "source": [
    "def get_labels(data_loader):\n",
    "  \"\"\"\n",
    "  Gets the labels from the \n",
    "  \"\"\"\n",
    "  labels_vector = []\n",
    "  for _,y in data_loader:\n",
    "    labels_vector.extend(y.numpy())\n",
    "  return labels_vector\n",
    "\n",
    "def print_class_distribution(labels,class_to_idx):\n",
    "  class_mapping = {v: k for k, v in class_to_idx.items()}\n",
    "  df = pd.DataFrame(data=labels)\n",
    "  df=df.replace(class_mapping)\n",
    "  c=pd.crosstab(index=df[0],columns='count')\n",
    "  print(c)\n",
    "\n",
    "\n",
    "labels_train = get_labels(train_loader)\n",
    "labels_test = get_labels(test_loader)\n",
    "print(\"Printing distribution of training set...\")\n",
    "print_class_distribution(labels_train,train_dataset.class_to_idx)\n",
    "print(\"Printing distribution of testing set...\")\n",
    "print_class_distribution(labels_test,test_dataset.class_to_idx)\n"
   ]
  },
  {
   "cell_type": "markdown",
   "metadata": {
    "colab_type": "text",
    "id": "Hym2t6vSygv3"
   },
   "source": [
    "# Load de pretrained CNN and its weights"
   ]
  },
  {
   "cell_type": "code",
   "execution_count": 21,
   "metadata": {
    "colab": {
     "base_uri": "https://localhost:8080/",
     "height": 1000
    },
    "colab_type": "code",
    "id": "vjDhl0Nmyk1B",
    "outputId": "7490db70-a40a-4ee3-f6c8-3434ade45132"
   },
   "outputs": [
    {
     "data": {
      "text/plain": [
       "SimCLR(\n",
       "  (encoder): ResNet(\n",
       "    (conv1): Conv2d(3, 64, kernel_size=(7, 7), stride=(2, 2), padding=(3, 3), bias=False)\n",
       "    (bn1): BatchNorm2d(64, eps=1e-05, momentum=0.1, affine=True, track_running_stats=True)\n",
       "    (relu): ReLU(inplace=True)\n",
       "    (maxpool): MaxPool2d(kernel_size=3, stride=2, padding=1, dilation=1, ceil_mode=False)\n",
       "    (layer1): Sequential(\n",
       "      (0): BasicBlock(\n",
       "        (conv1): Conv2d(64, 64, kernel_size=(3, 3), stride=(1, 1), padding=(1, 1), bias=False)\n",
       "        (bn1): BatchNorm2d(64, eps=1e-05, momentum=0.1, affine=True, track_running_stats=True)\n",
       "        (relu): ReLU(inplace=True)\n",
       "        (conv2): Conv2d(64, 64, kernel_size=(3, 3), stride=(1, 1), padding=(1, 1), bias=False)\n",
       "        (bn2): BatchNorm2d(64, eps=1e-05, momentum=0.1, affine=True, track_running_stats=True)\n",
       "      )\n",
       "      (1): BasicBlock(\n",
       "        (conv1): Conv2d(64, 64, kernel_size=(3, 3), stride=(1, 1), padding=(1, 1), bias=False)\n",
       "        (bn1): BatchNorm2d(64, eps=1e-05, momentum=0.1, affine=True, track_running_stats=True)\n",
       "        (relu): ReLU(inplace=True)\n",
       "        (conv2): Conv2d(64, 64, kernel_size=(3, 3), stride=(1, 1), padding=(1, 1), bias=False)\n",
       "        (bn2): BatchNorm2d(64, eps=1e-05, momentum=0.1, affine=True, track_running_stats=True)\n",
       "      )\n",
       "    )\n",
       "    (layer2): Sequential(\n",
       "      (0): BasicBlock(\n",
       "        (conv1): Conv2d(64, 128, kernel_size=(3, 3), stride=(2, 2), padding=(1, 1), bias=False)\n",
       "        (bn1): BatchNorm2d(128, eps=1e-05, momentum=0.1, affine=True, track_running_stats=True)\n",
       "        (relu): ReLU(inplace=True)\n",
       "        (conv2): Conv2d(128, 128, kernel_size=(3, 3), stride=(1, 1), padding=(1, 1), bias=False)\n",
       "        (bn2): BatchNorm2d(128, eps=1e-05, momentum=0.1, affine=True, track_running_stats=True)\n",
       "        (downsample): Sequential(\n",
       "          (0): Conv2d(64, 128, kernel_size=(1, 1), stride=(2, 2), bias=False)\n",
       "          (1): BatchNorm2d(128, eps=1e-05, momentum=0.1, affine=True, track_running_stats=True)\n",
       "        )\n",
       "      )\n",
       "      (1): BasicBlock(\n",
       "        (conv1): Conv2d(128, 128, kernel_size=(3, 3), stride=(1, 1), padding=(1, 1), bias=False)\n",
       "        (bn1): BatchNorm2d(128, eps=1e-05, momentum=0.1, affine=True, track_running_stats=True)\n",
       "        (relu): ReLU(inplace=True)\n",
       "        (conv2): Conv2d(128, 128, kernel_size=(3, 3), stride=(1, 1), padding=(1, 1), bias=False)\n",
       "        (bn2): BatchNorm2d(128, eps=1e-05, momentum=0.1, affine=True, track_running_stats=True)\n",
       "      )\n",
       "    )\n",
       "    (layer3): Sequential(\n",
       "      (0): BasicBlock(\n",
       "        (conv1): Conv2d(128, 256, kernel_size=(3, 3), stride=(2, 2), padding=(1, 1), bias=False)\n",
       "        (bn1): BatchNorm2d(256, eps=1e-05, momentum=0.1, affine=True, track_running_stats=True)\n",
       "        (relu): ReLU(inplace=True)\n",
       "        (conv2): Conv2d(256, 256, kernel_size=(3, 3), stride=(1, 1), padding=(1, 1), bias=False)\n",
       "        (bn2): BatchNorm2d(256, eps=1e-05, momentum=0.1, affine=True, track_running_stats=True)\n",
       "        (downsample): Sequential(\n",
       "          (0): Conv2d(128, 256, kernel_size=(1, 1), stride=(2, 2), bias=False)\n",
       "          (1): BatchNorm2d(256, eps=1e-05, momentum=0.1, affine=True, track_running_stats=True)\n",
       "        )\n",
       "      )\n",
       "      (1): BasicBlock(\n",
       "        (conv1): Conv2d(256, 256, kernel_size=(3, 3), stride=(1, 1), padding=(1, 1), bias=False)\n",
       "        (bn1): BatchNorm2d(256, eps=1e-05, momentum=0.1, affine=True, track_running_stats=True)\n",
       "        (relu): ReLU(inplace=True)\n",
       "        (conv2): Conv2d(256, 256, kernel_size=(3, 3), stride=(1, 1), padding=(1, 1), bias=False)\n",
       "        (bn2): BatchNorm2d(256, eps=1e-05, momentum=0.1, affine=True, track_running_stats=True)\n",
       "      )\n",
       "    )\n",
       "    (layer4): Sequential(\n",
       "      (0): BasicBlock(\n",
       "        (conv1): Conv2d(256, 512, kernel_size=(3, 3), stride=(2, 2), padding=(1, 1), bias=False)\n",
       "        (bn1): BatchNorm2d(512, eps=1e-05, momentum=0.1, affine=True, track_running_stats=True)\n",
       "        (relu): ReLU(inplace=True)\n",
       "        (conv2): Conv2d(512, 512, kernel_size=(3, 3), stride=(1, 1), padding=(1, 1), bias=False)\n",
       "        (bn2): BatchNorm2d(512, eps=1e-05, momentum=0.1, affine=True, track_running_stats=True)\n",
       "        (downsample): Sequential(\n",
       "          (0): Conv2d(256, 512, kernel_size=(1, 1), stride=(2, 2), bias=False)\n",
       "          (1): BatchNorm2d(512, eps=1e-05, momentum=0.1, affine=True, track_running_stats=True)\n",
       "        )\n",
       "      )\n",
       "      (1): BasicBlock(\n",
       "        (conv1): Conv2d(512, 512, kernel_size=(3, 3), stride=(1, 1), padding=(1, 1), bias=False)\n",
       "        (bn1): BatchNorm2d(512, eps=1e-05, momentum=0.1, affine=True, track_running_stats=True)\n",
       "        (relu): ReLU(inplace=True)\n",
       "        (conv2): Conv2d(512, 512, kernel_size=(3, 3), stride=(1, 1), padding=(1, 1), bias=False)\n",
       "        (bn2): BatchNorm2d(512, eps=1e-05, momentum=0.1, affine=True, track_running_stats=True)\n",
       "      )\n",
       "    )\n",
       "    (avgpool): AdaptiveAvgPool2d(output_size=(1, 1))\n",
       "    (fc): Identity()\n",
       "  )\n",
       "  (projector): Sequential(\n",
       "    (0): Linear(in_features=512, out_features=512, bias=False)\n",
       "    (1): ReLU()\n",
       "    (2): Linear(in_features=512, out_features=64, bias=False)\n",
       "  )\n",
       ")"
      ]
     },
     "execution_count": 21,
     "metadata": {},
     "output_type": "execute_result"
    }
   ],
   "source": [
    "simclr_model, _, _ = load_model(args, train_loader, reload_model=True)\n",
    "simclr_model = simclr_model.to(args.device)\n",
    "simclr_model.eval()"
   ]
  },
  {
   "cell_type": "markdown",
   "metadata": {
    "colab_type": "text",
    "id": "ecG89q-C0WIi"
   },
   "source": [
    "# Compute deep features for both training and validation sets\n",
    "Here we use our CNN pretrained using contrastive learning with unlabelled data for computing the features from all the examples."
   ]
  },
  {
   "cell_type": "code",
   "execution_count": 28,
   "metadata": {
    "colab": {
     "base_uri": "https://localhost:8080/",
     "height": 53
    },
    "colab_type": "code",
    "id": "7-kaL3kJ0nh9",
    "outputId": "88ef3ec2-afbd-42e8-fd69-c5e2488bc24c"
   },
   "outputs": [
    {
     "name": "stdout",
     "output_type": "stream",
     "text": [
      "Computing deep features for training set...\n",
      "Step [0/511]\n",
      "Step [20/511]\n",
      "Step [40/511]\n",
      "Step [60/511]\n",
      "Step [80/511]\n",
      "Step [100/511]\n",
      "Step [120/511]\n",
      "Step [140/511]\n",
      "Step [160/511]\n",
      "Step [180/511]\n",
      "Step [200/511]\n",
      "Step [220/511]\n",
      "Step [240/511]\n",
      "Step [260/511]\n",
      "Step [280/511]\n",
      "Step [300/511]\n",
      "Step [320/511]\n",
      "Step [340/511]\n",
      "Step [360/511]\n",
      "Step [380/511]\n",
      "Step [400/511]\n",
      "Step [420/511]\n",
      "Step [440/511]\n",
      "Step [460/511]\n",
      "Step [480/511]\n",
      "Step [500/511]\n",
      "Features shape (130816, 512)\n",
      "Computing deep features for validation set...\n",
      "Step [0/1066]\n",
      "Step [20/1066]\n",
      "Step [40/1066]\n",
      "Step [60/1066]\n",
      "Step [80/1066]\n",
      "Step [100/1066]\n",
      "Step [120/1066]\n",
      "Step [140/1066]\n",
      "Step [160/1066]\n",
      "Step [180/1066]\n",
      "Step [200/1066]\n",
      "Step [220/1066]\n",
      "Step [240/1066]\n",
      "Step [260/1066]\n",
      "Step [280/1066]\n",
      "Step [300/1066]\n",
      "Step [320/1066]\n",
      "Step [340/1066]\n",
      "Step [360/1066]\n",
      "Step [380/1066]\n",
      "Step [400/1066]\n",
      "Step [420/1066]\n",
      "Step [440/1066]\n",
      "Step [460/1066]\n",
      "Step [480/1066]\n",
      "Step [500/1066]\n",
      "Step [520/1066]\n",
      "Step [540/1066]\n",
      "Step [560/1066]\n",
      "Step [580/1066]\n",
      "Step [600/1066]\n",
      "Step [620/1066]\n",
      "Step [640/1066]\n",
      "Step [660/1066]\n",
      "Step [680/1066]\n",
      "Step [700/1066]\n",
      "Step [720/1066]\n",
      "Step [740/1066]\n",
      "Step [760/1066]\n",
      "Step [780/1066]\n",
      "Step [800/1066]\n",
      "Step [820/1066]\n",
      "Step [840/1066]\n",
      "Step [860/1066]\n",
      "Step [880/1066]\n",
      "Step [900/1066]\n",
      "Step [920/1066]\n",
      "Step [940/1066]\n",
      "Step [960/1066]\n",
      "Step [980/1066]\n",
      "Step [1000/1066]\n",
      "Step [1020/1066]\n",
      "Step [1040/1066]\n",
      "Step [1060/1066]\n",
      "Features shape (272896, 512)\n",
      "Done\n",
      "Building subset with 129 elements\n",
      "Building subset with 650 elements\n",
      "Building subset with 1305 elements\n",
      "Building subset with 13080 elements\n"
     ]
    }
   ],
   "source": [
    "import numpy as np\n",
    "from sklearn.model_selection import train_test_split\n",
    "\n",
    "def create_balanced_splits(labels_vector,proportions):\n",
    "  \"\"\"\n",
    "  This function creates different balanced splits following the proportions\n",
    "  \"\"\"\n",
    "  unique, globalcounts = np.unique(labels_vector, return_counts=True)\n",
    "  #Find indexes for each class\n",
    "  classindexes = []\n",
    "  for c in unique:\n",
    "    classindexes.append(np.where(labels_vector == c)[0])\n",
    "  subsets = {}\n",
    "  for p in proportions:\n",
    "    subsets[p]=[]\n",
    "    counts = np.rint(globalcounts*p)\n",
    "    print(\"Building subset with %d elements\"%sum(counts))\n",
    "    for i in range(len(counts)):\n",
    "      subsets[p].extend(classindexes[i][0:int(counts[i])])\n",
    "  return subsets   \n",
    "\n",
    "#This function computes the deep features\n",
    "def inference(loader, context_model, device):\n",
    "  feature_vector = []\n",
    "  labels_vector = []\n",
    "  for step, (x, y) in enumerate(loader):\n",
    "    x = x.to(device)\n",
    "\n",
    "    # get encoding\n",
    "    with torch.no_grad():\n",
    "      h, z = context_model(x)\n",
    "\n",
    "    h = h.detach()\n",
    "\n",
    "    feature_vector.extend(h.cpu().detach().numpy())\n",
    "    labels_vector.extend(y.numpy())\n",
    "\n",
    "    if step % 20 == 0:\n",
    "      print(f\"Step [{step}/{len(loader)}]\")\n",
    "\n",
    "  feature_vector = np.array(feature_vector)\n",
    "  labels_vector = np.array(labels_vector)\n",
    "  print(\"Features shape {}\".format(feature_vector.shape))\n",
    "  return feature_vector, labels_vector\n",
    "\n",
    "def get_features(context_model, train_loader, test_loader, device):\n",
    "  print(\"Computing deep features for training set...\")\n",
    "  train_X, train_y = inference(train_loader, context_model, device)\n",
    "  print(\"Computing deep features for validation set...\")\n",
    "  test_X, test_y = inference(test_loader, context_model, device)\n",
    "  return train_X, train_y, test_X, test_y\n",
    "\n",
    "def create_data_loaders_from_arrays(X_train, y_train, X_test, y_test, batch_size, proportions):\n",
    "  #We want to create multiple train loaders with different labelled data proportions\n",
    "  train = torch.utils.data.TensorDataset(torch.from_numpy(X_train), torch.from_numpy(y_train))\n",
    "  train_loader=torch.utils.data.DataLoader(train, batch_size=batch_size)\n",
    "  indexes = create_balanced_splits(labels_train,args.proportions)\n",
    "  train_loaders = {}\n",
    "  for p in args.proportions:\n",
    "    d=torch.utils.data.Subset(train,indexes[p])\n",
    "    train_loaders[p]=torch.utils.data.DataLoader(d, batch_size=batch_size, shuffle=True)\n",
    "  test = torch.utils.data.TensorDataset(torch.from_numpy(X_test), torch.from_numpy(y_test))\n",
    "  test_loader = torch.utils.data.DataLoader(test, batch_size=batch_size, shuffle=False)\n",
    "  return train_loaders, test_loader\n",
    "\n",
    "(train_X, train_y, test_X, test_y) = get_features(simclr_model, train_loader, test_loader, args.device)\n",
    "print(\"Done\")\n",
    "\n",
    "#We create the data loaders from the arrays with the deep features\n",
    "arr_train_loaders, arr_test_loader = create_data_loaders_from_arrays(train_X, train_y, test_X, test_y, args.logistic_batch_size,args.proportions)\n"
   ]
  },
  {
   "cell_type": "markdown",
   "metadata": {
    "colab_type": "text",
    "id": "Ui_xgjsjUBXj"
   },
   "source": [
    "# Lets train the classifier and see how it works!\n",
    "We are going to train the classifier using different labeled data proportions"
   ]
  },
  {
   "cell_type": "code",
   "execution_count": 29,
   "metadata": {
    "colab": {},
    "colab_type": "code",
    "id": "SHxNV321UF0d"
   },
   "outputs": [
    {
     "name": "stdout",
     "output_type": "stream",
     "text": [
      "Training dataset with proportion 0.001000 and 256 labeled examples in training set\n",
      "Epoch [0/500]\t Loss: 4.492379665374756\t Accuracy: 0.0\n",
      "Epoch [10/500]\t Loss: 3.456709623336792\t Accuracy: 0.3875968992248062\n",
      "Epoch [20/500]\t Loss: 2.594858169555664\t Accuracy: 0.6821705426356589\n",
      "Epoch [30/500]\t Loss: 2.0297467708587646\t Accuracy: 0.6821705426356589\n",
      "Epoch [40/500]\t Loss: 1.7053613662719727\t Accuracy: 0.6821705426356589\n",
      "Epoch [50/500]\t Loss: 1.4982807636260986\t Accuracy: 0.6821705426356589\n",
      "Epoch [60/500]\t Loss: 1.3446482419967651\t Accuracy: 0.6821705426356589\n",
      "Epoch [70/500]\t Loss: 1.2217087745666504\t Accuracy: 0.689922480620155\n",
      "Epoch [80/500]\t Loss: 1.121346354484558\t Accuracy: 0.689922480620155\n",
      "Epoch [90/500]\t Loss: 1.0394952297210693\t Accuracy: 0.7441860465116279\n",
      "Epoch [100/500]\t Loss: 0.9728878736495972\t Accuracy: 0.7906976744186046\n",
      "Epoch [110/500]\t Loss: 0.9184690713882446\t Accuracy: 0.813953488372093\n",
      "Epoch [120/500]\t Loss: 0.8735373020172119\t Accuracy: 0.813953488372093\n",
      "Epoch [130/500]\t Loss: 0.835885226726532\t Accuracy: 0.8294573643410853\n",
      "Epoch [140/500]\t Loss: 0.803802490234375\t Accuracy: 0.8372093023255814\n",
      "Epoch [150/500]\t Loss: 0.7760000228881836\t Accuracy: 0.8372093023255814\n",
      "Epoch [160/500]\t Loss: 0.7515179514884949\t Accuracy: 0.8527131782945736\n",
      "Epoch [170/500]\t Loss: 0.7296419739723206\t Accuracy: 0.8527131782945736\n",
      "Epoch [180/500]\t Loss: 0.7098397016525269\t Accuracy: 0.8604651162790697\n",
      "Epoch [190/500]\t Loss: 0.691711962223053\t Accuracy: 0.8604651162790697\n",
      "Epoch [200/500]\t Loss: 0.674956738948822\t Accuracy: 0.875968992248062\n",
      "Epoch [210/500]\t Loss: 0.6593441367149353\t Accuracy: 0.875968992248062\n",
      "Epoch [220/500]\t Loss: 0.6446976065635681\t Accuracy: 0.875968992248062\n",
      "Epoch [230/500]\t Loss: 0.6308798789978027\t Accuracy: 0.875968992248062\n",
      "Epoch [240/500]\t Loss: 0.617783784866333\t Accuracy: 0.875968992248062\n",
      "Epoch [250/500]\t Loss: 0.6053246259689331\t Accuracy: 0.875968992248062\n",
      "Epoch [260/500]\t Loss: 0.5934348106384277\t Accuracy: 0.875968992248062\n",
      "Epoch [270/500]\t Loss: 0.5820595026016235\t Accuracy: 0.875968992248062\n",
      "Epoch [280/500]\t Loss: 0.5711545944213867\t Accuracy: 0.875968992248062\n",
      "Epoch [290/500]\t Loss: 0.5606826543807983\t Accuracy: 0.875968992248062\n",
      "Epoch [300/500]\t Loss: 0.5506131052970886\t Accuracy: 0.875968992248062\n",
      "Epoch [310/500]\t Loss: 0.5409194231033325\t Accuracy: 0.875968992248062\n",
      "Epoch [320/500]\t Loss: 0.531578540802002\t Accuracy: 0.875968992248062\n",
      "Epoch [330/500]\t Loss: 0.5225708484649658\t Accuracy: 0.8837209302325582\n",
      "Epoch [340/500]\t Loss: 0.5138779878616333\t Accuracy: 0.8837209302325582\n",
      "Epoch [350/500]\t Loss: 0.5054839253425598\t Accuracy: 0.8837209302325582\n",
      "Epoch [360/500]\t Loss: 0.49737387895584106\t Accuracy: 0.8837209302325582\n",
      "Epoch [370/500]\t Loss: 0.4895343780517578\t Accuracy: 0.8837209302325582\n",
      "Epoch [380/500]\t Loss: 0.48195236921310425\t Accuracy: 0.8914728682170543\n",
      "Epoch [390/500]\t Loss: 0.47461599111557007\t Accuracy: 0.8914728682170543\n",
      "Epoch [400/500]\t Loss: 0.4675142168998718\t Accuracy: 0.8914728682170543\n",
      "Epoch [410/500]\t Loss: 0.4606362283229828\t Accuracy: 0.8914728682170543\n",
      "Epoch [420/500]\t Loss: 0.453972190618515\t Accuracy: 0.8914728682170543\n",
      "Epoch [430/500]\t Loss: 0.4475124478340149\t Accuracy: 0.8914728682170543\n",
      "Epoch [440/500]\t Loss: 0.4412480592727661\t Accuracy: 0.8914728682170543\n",
      "Epoch [450/500]\t Loss: 0.43517059087753296\t Accuracy: 0.8914728682170543\n",
      "Epoch [460/500]\t Loss: 0.42927175760269165\t Accuracy: 0.8914728682170543\n",
      "Epoch [470/500]\t Loss: 0.42354416847229004\t Accuracy: 0.8914728682170543\n",
      "Epoch [480/500]\t Loss: 0.4179804027080536\t Accuracy: 0.8914728682170543\n",
      "Epoch [490/500]\t Loss: 0.41257354617118835\t Accuracy: 0.8992248062015504\n",
      "[FINAL]\t Loss: 1.317060053320584\t Accuracy: 0.7956364329268293\n",
      "Training dataset with proportion 0.005000 and 768 labeled examples in training set\n",
      "Epoch [0/500]\t Loss: 4.111368179321289\t Accuracy: 0.0013020833333333333\n",
      "Epoch [10/500]\t Loss: 1.9383313655853271\t Accuracy: 0.6814802234299516\n",
      "Epoch [20/500]\t Loss: 1.448956847190857\t Accuracy: 0.686688556763285\n",
      "Epoch [30/500]\t Loss: 1.243625005086263\t Accuracy: 0.724807518115942\n",
      "Epoch [40/500]\t Loss: 1.1025633017222087\t Accuracy: 0.7781740640096618\n",
      "Epoch [50/500]\t Loss: 1.026683767636617\t Accuracy: 0.7906476449275361\n",
      "Epoch [60/500]\t Loss: 0.9569849769274393\t Accuracy: 0.8261435688405797\n",
      "Epoch [70/500]\t Loss: 0.9135468800862631\t Accuracy: 0.8434291968599034\n",
      "Epoch [80/500]\t Loss: 0.8801175157229105\t Accuracy: 0.8430706521739131\n",
      "Epoch [90/500]\t Loss: 0.8567147453625997\t Accuracy: 0.8467881944444445\n",
      "Epoch [100/500]\t Loss: 0.7989088694254557\t Accuracy: 0.8523550724637681\n",
      "Epoch [110/500]\t Loss: 0.7881324092547098\t Accuracy: 0.8492036533816426\n",
      "Epoch [120/500]\t Loss: 0.7664910157521566\t Accuracy: 0.8505057367149759\n",
      "Epoch [130/500]\t Loss: 0.762776255607605\t Accuracy: 0.8527324879227054\n",
      "Epoch [140/500]\t Loss: 0.7318447629610697\t Accuracy: 0.8564500301932366\n",
      "Epoch [150/500]\t Loss: 0.7215238610903422\t Accuracy: 0.8579408212560388\n",
      "Epoch [160/500]\t Loss: 0.7063187956809998\t Accuracy: 0.8642625301932366\n",
      "Epoch [170/500]\t Loss: 0.6918697555859884\t Accuracy: 0.8653759057971014\n",
      "Epoch [180/500]\t Loss: 0.6619592905044556\t Accuracy: 0.8679800724637681\n",
      "Epoch [190/500]\t Loss: 0.6745616396268209\t Accuracy: 0.8648286533816426\n",
      "Epoch [200/500]\t Loss: 0.6265652577082316\t Accuracy: 0.8748490338164251\n",
      "Epoch [210/500]\t Loss: 0.6318657000859579\t Accuracy: 0.867055404589372\n",
      "Epoch [220/500]\t Loss: 0.6333547830581665\t Accuracy: 0.8648286533816426\n",
      "Epoch [230/500]\t Loss: 0.6060737172762553\t Accuracy: 0.8726222826086957\n",
      "Epoch [240/500]\t Loss: 0.6164983510971069\t Accuracy: 0.8692821557971014\n",
      "Epoch [250/500]\t Loss: 0.5987091263135275\t Accuracy: 0.8705842391304347\n",
      "Epoch [260/500]\t Loss: 0.5992934306462606\t Accuracy: 0.86947086352657\n",
      "Epoch [270/500]\t Loss: 0.575029174486796\t Accuracy: 0.8739243659420289\n",
      "Epoch [280/500]\t Loss: 0.5971358418464661\t Accuracy: 0.8616772342995169\n",
      "Epoch [290/500]\t Loss: 0.5487434069315592\t Accuracy: 0.8798686594202899\n",
      "Epoch [300/500]\t Loss: 0.5680752793947855\t Accuracy: 0.8718863224637681\n",
      "Epoch [310/500]\t Loss: 0.5702108442783356\t Accuracy: 0.870961654589372\n",
      "Epoch [320/500]\t Loss: 0.5423313577969869\t Accuracy: 0.8789439915458938\n",
      "Epoch [330/500]\t Loss: 0.5293520987033844\t Accuracy: 0.8826615338164251\n",
      "Epoch [340/500]\t Loss: 0.5316294431686401\t Accuracy: 0.8804347826086957\n",
      "Epoch [350/500]\t Loss: 0.5310719013214111\t Accuracy: 0.8806234903381642\n",
      "Epoch [360/500]\t Loss: 0.5379717846711477\t Accuracy: 0.87728336352657\n",
      "Epoch [370/500]\t Loss: 0.5335742632548014\t Accuracy: 0.8783967391304347\n",
      "Epoch [380/500]\t Loss: 0.5320878326892853\t Accuracy: 0.87728336352657\n",
      "Epoch [390/500]\t Loss: 0.5208755334218343\t Accuracy: 0.8783967391304347\n",
      "Epoch [400/500]\t Loss: 0.490804523229599\t Accuracy: 0.8828502415458938\n",
      "Epoch [410/500]\t Loss: 0.502195825179418\t Accuracy: 0.8783967391304347\n",
      "Epoch [420/500]\t Loss: 0.49400293827056885\t Accuracy: 0.884152324879227\n",
      "Epoch [430/500]\t Loss: 0.4846036235491435\t Accuracy: 0.8865677838164251\n",
      "Epoch [440/500]\t Loss: 0.4784702658653259\t Accuracy: 0.8843410326086957\n",
      "Epoch [450/500]\t Loss: 0.4846833646297455\t Accuracy: 0.8843410326086957\n",
      "Epoch [460/500]\t Loss: 0.4922868311405182\t Accuracy: 0.8836050724637681\n",
      "Epoch [470/500]\t Loss: 0.4889876941839854\t Accuracy: 0.8858318236714976\n",
      "Epoch [480/500]\t Loss: 0.5006638467311859\t Accuracy: 0.8813783212560388\n",
      "Epoch [490/500]\t Loss: 0.4685371319452922\t Accuracy: 0.8893606582125604\n",
      "[FINAL]\t Loss: 1.1017593502802652\t Accuracy: 0.8017559803001876\n",
      "Training dataset with proportion 0.010000 and 1536 labeled examples in training set\n",
      "Epoch [0/500]\t Loss: 3.3472865422566733\t Accuracy: 0.291875\n",
      "Epoch [10/500]\t Loss: 1.2896835803985596\t Accuracy: 0.7366927083333333\n",
      "Epoch [20/500]\t Loss: 1.0119781692822774\t Accuracy: 0.8244010416666666\n",
      "Epoch [30/500]\t Loss: 0.9111313621203104\t Accuracy: 0.8380729166666666\n",
      "Epoch [40/500]\t Loss: 0.7992002169291178\t Accuracy: 0.8486458333333333\n",
      "Epoch [50/500]\t Loss: 0.8207522133986155\t Accuracy: 0.8312499999999999\n",
      "Epoch [60/500]\t Loss: 0.7870138982931772\t Accuracy: 0.8338541666666667\n",
      "Epoch [70/500]\t Loss: 0.7311508258183798\t Accuracy: 0.8478385416666666\n",
      "Epoch [80/500]\t Loss: 0.7036676605542501\t Accuracy: 0.8444270833333333\n",
      "Epoch [90/500]\t Loss: 0.7268930772940317\t Accuracy: 0.8457291666666666\n"
     ]
    },
    {
     "name": "stdout",
     "output_type": "stream",
     "text": [
      "Epoch [100/500]\t Loss: 0.6211413542429606\t Accuracy: 0.8603645833333333\n",
      "Epoch [110/500]\t Loss: 0.654225637515386\t Accuracy: 0.8436197916666667\n",
      "Epoch [120/500]\t Loss: 0.7406692504882812\t Accuracy: 0.8161458333333332\n",
      "Epoch [130/500]\t Loss: 0.6521889865398407\t Accuracy: 0.8402083333333333\n",
      "Epoch [140/500]\t Loss: 0.6386792163054148\t Accuracy: 0.8488281249999999\n",
      "Epoch [150/500]\t Loss: 0.611713300148646\t Accuracy: 0.8602083333333334\n",
      "Epoch [160/500]\t Loss: 0.5580426057179769\t Accuracy: 0.8694791666666667\n",
      "Epoch [170/500]\t Loss: 0.547243927915891\t Accuracy: 0.8701302083333333\n",
      "Epoch [180/500]\t Loss: 0.6130099296569824\t Accuracy: 0.8540364583333333\n",
      "Epoch [190/500]\t Loss: 0.5846950511137644\t Accuracy: 0.86671875\n",
      "Epoch [200/500]\t Loss: 0.5316140502691269\t Accuracy: 0.8613541666666666\n",
      "Epoch [210/500]\t Loss: 0.547229990363121\t Accuracy: 0.8693229166666666\n",
      "Epoch [220/500]\t Loss: 0.5922094583511353\t Accuracy: 0.8592447916666667\n",
      "Epoch [230/500]\t Loss: 0.5397707422574362\t Accuracy: 0.872578125\n",
      "Epoch [240/500]\t Loss: 0.5649775912364324\t Accuracy: 0.8605468749999999\n",
      "Epoch [250/500]\t Loss: 0.6018325984477997\t Accuracy: 0.8358333333333333\n",
      "Epoch [260/500]\t Loss: 0.5165418734153112\t Accuracy: 0.8598958333333333\n",
      "Epoch [270/500]\t Loss: 0.5245772550503413\t Accuracy: 0.8792447916666667\n",
      "Epoch [280/500]\t Loss: 0.578750083843867\t Accuracy: 0.8618489583333333\n",
      "Epoch [290/500]\t Loss: 0.6379916618267695\t Accuracy: 0.8431510416666667\n",
      "Epoch [300/500]\t Loss: 0.4967031578222911\t Accuracy: 0.8738802083333334\n",
      "Epoch [310/500]\t Loss: 0.519467905163765\t Accuracy: 0.8691666666666666\n",
      "Epoch [320/500]\t Loss: 0.454332135617733\t Accuracy: 0.8878645833333333\n",
      "Epoch [330/500]\t Loss: 0.5062070439259211\t Accuracy: 0.8758333333333334\n",
      "Epoch [340/500]\t Loss: 0.5366152276595434\t Accuracy: 0.8638020833333333\n",
      "Epoch [350/500]\t Loss: 0.49174470206101734\t Accuracy: 0.876484375\n",
      "Epoch [360/500]\t Loss: 0.4266822263598442\t Accuracy: 0.8898177083333333\n",
      "Epoch [370/500]\t Loss: 0.5769311388333639\t Accuracy: 0.8651041666666667\n",
      "Epoch [380/500]\t Loss: 0.4714297155539195\t Accuracy: 0.8717708333333333\n",
      "Epoch [390/500]\t Loss: 0.4771479566891988\t Accuracy: 0.8657552083333333\n",
      "Epoch [400/500]\t Loss: 0.41843557357788086\t Accuracy: 0.8898177083333333\n",
      "Epoch [410/500]\t Loss: 0.41014648228883743\t Accuracy: 0.896484375\n",
      "Epoch [420/500]\t Loss: 0.47345540920893353\t Accuracy: 0.8851041666666667\n",
      "Epoch [430/500]\t Loss: 0.4173926462729772\t Accuracy: 0.8937239583333333\n",
      "Epoch [440/500]\t Loss: 0.4915403525034587\t Accuracy: 0.876328125\n",
      "Epoch [450/500]\t Loss: 0.4417914003133774\t Accuracy: 0.88234375\n",
      "Epoch [460/500]\t Loss: 0.5164658824602762\t Accuracy: 0.8649479166666666\n",
      "Epoch [470/500]\t Loss: 0.45280390977859497\t Accuracy: 0.8829947916666666\n",
      "Epoch [480/500]\t Loss: 0.4049099087715149\t Accuracy: 0.8836458333333334\n",
      "Epoch [490/500]\t Loss: 0.43586810926596325\t Accuracy: 0.8903125\n",
      "[FINAL]\t Loss: 0.9930561225700557\t Accuracy: 0.8231487453095685\n",
      "Training dataset with proportion 0.100000 and 13312 labeled examples in training set\n",
      "Epoch [0/500]\t Loss: 2.591942537289399\t Accuracy: 0.5567407852564102\n",
      "Epoch [10/500]\t Loss: 0.8310620555510888\t Accuracy: 0.8258213141025641\n",
      "Epoch [20/500]\t Loss: 0.6949017643928528\t Accuracy: 0.8356870993589743\n",
      "Epoch [30/500]\t Loss: 0.6362658991263463\t Accuracy: 0.8410206330128205\n",
      "Epoch [40/500]\t Loss: 0.5960286236726321\t Accuracy: 0.8429236778846154\n",
      "Epoch [50/500]\t Loss: 0.5656019225716591\t Accuracy: 0.8475811298076923\n",
      "Epoch [60/500]\t Loss: 0.5440226340523133\t Accuracy: 0.8509364983974359\n",
      "Epoch [70/500]\t Loss: 0.5307065449081935\t Accuracy: 0.8520132211538461\n",
      "Epoch [80/500]\t Loss: 0.5151349649979517\t Accuracy: 0.8540164262820512\n",
      "Epoch [90/500]\t Loss: 0.5032248009855931\t Accuracy: 0.8550681089743589\n",
      "Epoch [100/500]\t Loss: 0.49350444685954314\t Accuracy: 0.8542167467948718\n",
      "Epoch [110/500]\t Loss: 0.48796696960926056\t Accuracy: 0.8531650641025641\n",
      "Epoch [120/500]\t Loss: 0.47209869525753534\t Accuracy: 0.8579977964743589\n",
      "Epoch [130/500]\t Loss: 0.4701753980838336\t Accuracy: 0.8588491586538461\n",
      "Epoch [140/500]\t Loss: 0.462733201109446\t Accuracy: 0.8605518830128205\n",
      "Epoch [150/500]\t Loss: 0.4607324955555109\t Accuracy: 0.8604266826923077\n",
      "Epoch [160/500]\t Loss: 0.4496102324472024\t Accuracy: 0.8637319711538461\n",
      "Epoch [170/500]\t Loss: 0.4482511281967163\t Accuracy: 0.8618539663461539\n",
      "Epoch [180/500]\t Loss: 0.4428187058522151\t Accuracy: 0.8626802884615384\n",
      "Epoch [190/500]\t Loss: 0.43780442957694715\t Accuracy: 0.8637319711538461\n",
      "Epoch [200/500]\t Loss: 0.4392609682220679\t Accuracy: 0.8644080528846154\n",
      "Epoch [210/500]\t Loss: 0.43019042106775135\t Accuracy: 0.8647335737179488\n",
      "Epoch [220/500]\t Loss: 0.42840681683558685\t Accuracy: 0.8676632612179488\n",
      "Epoch [230/500]\t Loss: 0.4240598546770903\t Accuracy: 0.8664362980769231\n",
      "Epoch [240/500]\t Loss: 0.4184304200685941\t Accuracy: 0.8696664663461539\n",
      "Epoch [250/500]\t Loss: 0.42021844536066055\t Accuracy: 0.8661107772435896\n",
      "Epoch [260/500]\t Loss: 0.4170593166580567\t Accuracy: 0.8672876602564104\n",
      "Epoch [270/500]\t Loss: 0.4099491419127354\t Accuracy: 0.8690404647435896\n",
      "Epoch [280/500]\t Loss: 0.42029008727807265\t Accuracy: 0.8670372596153846\n",
      "Epoch [290/500]\t Loss: 0.4053860493004322\t Accuracy: 0.8706179887820512\n",
      "Epoch [300/500]\t Loss: 0.40603645547078204\t Accuracy: 0.8706931089743589\n",
      "Epoch [310/500]\t Loss: 0.4009894539530461\t Accuracy: 0.8712189503205128\n",
      "Epoch [320/500]\t Loss: 0.3983951466014752\t Accuracy: 0.8717447916666666\n",
      "Epoch [330/500]\t Loss: 0.39912155270576477\t Accuracy: 0.8712439903846154\n",
      "Epoch [340/500]\t Loss: 0.39398246057904684\t Accuracy: 0.8730719150641026\n",
      "Epoch [350/500]\t Loss: 0.39278532793888676\t Accuracy: 0.87109375\n",
      "Epoch [360/500]\t Loss: 0.39682298210951\t Accuracy: 0.8707431891025641\n",
      "Epoch [370/500]\t Loss: 0.39224590074557525\t Accuracy: 0.8703175080128205\n",
      "Epoch [380/500]\t Loss: 0.39121609410414326\t Accuracy: 0.872245592948718\n",
      "Epoch [390/500]\t Loss: 0.38551861907427126\t Accuracy: 0.8745743189102565\n",
      "Epoch [400/500]\t Loss: 0.3813360402217278\t Accuracy: 0.8747245592948718\n",
      "Epoch [410/500]\t Loss: 0.38446063032517064\t Accuracy: 0.873848157051282\n",
      "Epoch [420/500]\t Loss: 0.379423126578331\t Accuracy: 0.8751001602564104\n",
      "Epoch [430/500]\t Loss: 0.3836897760629654\t Accuracy: 0.8721704727564104\n",
      "Epoch [440/500]\t Loss: 0.3840887655432408\t Accuracy: 0.8729717548076923\n",
      "Epoch [450/500]\t Loss: 0.3738488234006442\t Accuracy: 0.8757512019230769\n",
      "Epoch [460/500]\t Loss: 0.37845128831955105\t Accuracy: 0.8716947115384616\n",
      "Epoch [470/500]\t Loss: 0.37262301347576654\t Accuracy: 0.8757762419871795\n",
      "Epoch [480/500]\t Loss: 0.3757809308859018\t Accuracy: 0.8743990384615384\n",
      "Epoch [490/500]\t Loss: 0.3710484378612958\t Accuracy: 0.8760767227564104\n",
      "[FINAL]\t Loss: 0.5600422667671435\t Accuracy: 0.8487409122889306\n"
     ]
    }
   ],
   "source": [
    "from SimCLR.modules import LogisticRegression\n",
    "\n",
    "for p in args.proportions:\n",
    "    model = LogisticRegression(simclr_model.n_features, len(classes))\n",
    "    model = model.to(args.device)\n",
    "    optimizer = torch.optim.SGD(model.parameters(), lr=0.001)\n",
    "    #optimizer = torch.optim.Adam(model.parameters(), lr=3e-4)\n",
    "    criterion = torch.nn.CrossEntropyLoss()\n",
    "    arr_train_loader = arr_train_loaders[p]\n",
    "    print(\"Training dataset with proportion %f and %d labeled examples in training set\"%(p,len(arr_train_loader)*args.logistic_batch_size))\n",
    "    for epoch in range(args.logistic_epochs):\n",
    "        loss_epoch, accuracy_epoch = train(args, arr_train_loader, model, criterion, optimizer)\n",
    "        if epoch % 10 == 0:\n",
    "            print(f\"Epoch [{epoch}/{args.logistic_epochs}]\\t Loss: {loss_epoch / len(arr_train_loader)}\\t Accuracy: {accuracy_epoch / len(arr_train_loader)}\")\n",
    "\n",
    "    # final testing\n",
    "    loss_epoch, accuracy_epoch,y_true,y_pred = test(args, arr_test_loader, model, criterion, optimizer)\n",
    "    #Build the confusion matrix here\n",
    "    print(f\"[FINAL]\\t Loss: {loss_epoch / len(arr_test_loader)}\\t Accuracy: {accuracy_epoch / len(arr_test_loader)}\")"
   ]
  }
 ],
 "metadata": {
  "accelerator": "GPU",
  "colab": {
   "authorship_tag": "ABX9TyP5emIASnLQPb6sP3x3ZZIo",
   "collapsed_sections": [],
   "include_colab_link": true,
   "mount_file_id": "1ExTR163G6Wr9Jq8eqjQz7sAfdJJSVlqs",
   "name": "IFCB.ipynb",
   "provenance": [],
   "toc_visible": true
  },
  "kernelspec": {
   "display_name": "Python 3",
   "language": "python",
   "name": "python3"
  },
  "language_info": {
   "codemirror_mode": {
    "name": "ipython",
    "version": 3
   },
   "file_extension": ".py",
   "mimetype": "text/x-python",
   "name": "python",
   "nbconvert_exporter": "python",
   "pygments_lexer": "ipython3",
   "version": "3.7.6"
  }
 },
 "nbformat": 4,
 "nbformat_minor": 1
}
